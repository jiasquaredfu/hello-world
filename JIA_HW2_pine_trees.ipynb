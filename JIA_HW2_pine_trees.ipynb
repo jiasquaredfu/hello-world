{
  "cells": [
    {
      "cell_type": "markdown",
      "metadata": {
        "id": "view-in-github",
        "colab_type": "text"
      },
      "source": [
        "<a href=\"https://colab.research.google.com/github/jiasquaredfu/hello-world/blob/master/JIA_HW2_pine_trees.ipynb\" target=\"_parent\"><img src=\"https://colab.research.google.com/assets/colab-badge.svg\" alt=\"Open In Colab\"/></a>"
      ]
    },
    {
      "cell_type": "markdown",
      "metadata": {
        "id": "NgmAsKgZK5tG"
      },
      "source": [
        "First off, you need to open this notebook in Google Colab. So download this notebook and upload it to your Google Drive. Once it's in your Google Drive, you can open it with Google Colab."
      ]
    },
    {
      "cell_type": "markdown",
      "metadata": {
        "id": "AhnreGP4K5tJ"
      },
      "source": [
        "# HW2 : Pine Trees\n",
        "\n",
        "I would like you to channel your inner Bob Ross and write a python program that draws ASCII art pine trees.\n",
        "Your program should prompt the user to input the height of the tree they would like. Then it should draw a tree to the output area beneath your code. The tree should be made of astrix (*) . It should have a trunk visible at the bottom of the tree from the pipe symbol (|).\n",
        "\n",
        "An example run would look like below:"
      ]
    },
    {
      "cell_type": "code",
      "execution_count": null,
      "metadata": {
        "colab": {
          "base_uri": "https://localhost:8080/",
          "height": 67
        },
        "id": "s0_A0KggK5tK",
        "outputId": "79114435-e750-4d67-e79e-1c081ac574d0"
      },
      "outputs": [
        {
          "output_type": "execute_result",
          "data": {
            "text/plain": [
              "'\\nHow tall should the tree be? 10\\n          *          \\n         ***         \\n        *****        \\n       *******       \\n      *********      \\n     ***********     \\n    *************    \\n   ***************   \\n  *****************  \\n ******************* \\n          |         \\n'"
            ],
            "application/vnd.google.colaboratory.intrinsic+json": {
              "type": "string"
            }
          },
          "metadata": {},
          "execution_count": 1
        }
      ],
      "source": [
        "'''\n",
        "How tall should the tree be? 10\n",
        "          *\n",
        "         ***\n",
        "        *****\n",
        "       *******\n",
        "      *********\n",
        "     ***********\n",
        "    *************\n",
        "   ***************\n",
        "  *****************\n",
        " *******************\n",
        "          |\n",
        "'''"
      ]
    },
    {
      "cell_type": "markdown",
      "metadata": {
        "id": "AogYokKOK5tL"
      },
      "source": [
        "Here's another example with a shorter tree:"
      ]
    },
    {
      "cell_type": "code",
      "execution_count": null,
      "metadata": {
        "colab": {
          "base_uri": "https://localhost:8080/",
          "height": 34
        },
        "id": "98ZqMMT4K5tL",
        "outputId": "ad297362-9917-45d3-9b62-df8b553ef95e"
      },
      "outputs": [
        {
          "output_type": "execute_result",
          "data": {
            "text/plain": [
              "'\\nHow tall should the tree be? 4\\n    *    \\n   ***   \\n  *****  \\n ******* \\n    |    \\n'"
            ],
            "application/vnd.google.colaboratory.intrinsic+json": {
              "type": "string"
            }
          },
          "metadata": {},
          "execution_count": 2
        }
      ],
      "source": [
        "'''\n",
        "How tall should the tree be? 4\n",
        "    *\n",
        "   ***\n",
        "  *****\n",
        " *******\n",
        "    |\n",
        "'''"
      ]
    },
    {
      "cell_type": "markdown",
      "metadata": {
        "id": "bzI_c8dNK5tM"
      },
      "source": [
        "### Here are some hints:\n",
        "\n",
        "* You will use the print function.\n",
        "  * I want you to use the print function to print only a single character at a time.\n",
        "  * For example, you should use `print(\"*\", end=\"\")` or `print(\" \", end=\"\")`.\n",
        "  \n",
        "  \n",
        "* In order to get this program to work, you will need to use for loops.\n",
        "  * You will write more than one for loop.\n",
        "\n",
        "* You will prompt the user to specify a length by asking \"How tall should the tree be?\"\n",
        "  * The user shoud be able to enter their answer on the same line as the question.\n",
        "  * After entering their answer, the tree should be drawn to the output area."
      ]
    },
    {
      "cell_type": "code",
      "execution_count": null,
      "metadata": {
        "colab": {
          "base_uri": "https://localhost:8080/"
        },
        "id": "3vuGGvIcK5tM",
        "outputId": "8c5b4ee3-9554-47af-a351-bf0cc3a683c7"
      },
      "outputs": [
        {
          "output_type": "stream",
          "name": "stdout",
          "text": [
            "Please input height of tree: 30\n",
            "                              *\n",
            "                             ***\n",
            "                            *****\n",
            "                           *******\n",
            "                          *********\n",
            "                         ***********\n",
            "                        *************\n",
            "                       ***************\n",
            "                      *****************\n",
            "                     *******************\n",
            "                    *********************\n",
            "                   ***********************\n",
            "                  *************************\n",
            "                 ***************************\n",
            "                *****************************\n",
            "               *******************************\n",
            "              *********************************\n",
            "             ***********************************\n",
            "            *************************************\n",
            "           ***************************************\n",
            "          *****************************************\n",
            "         *******************************************\n",
            "        *********************************************\n",
            "       ***********************************************\n",
            "      *************************************************\n",
            "     ***************************************************\n",
            "    *****************************************************\n",
            "   *******************************************************\n",
            "  *********************************************************\n",
            " ***********************************************************\n",
            "                              |\n"
          ]
        }
      ],
      "source": [
        "# Rosetta Summer REU HW 2\n",
        "# Jiajia Fu 5/12/24\n",
        "\n",
        "height = input(\"Please input height of tree: \")\n",
        "height = int(height)\n",
        "star = \"*\"\n",
        "space = \" \"\n",
        "trunk = \"|\"\n",
        "\n",
        "def draw(space, star, height):\n",
        "  start_space = space*height\n",
        "  print(start_space+star, end='\\n') #print initial star in correct position\n",
        "  #for i in range(1, height-1): # iterate through remaining number of rows\n",
        "  space = start_space\n",
        "  for j in range(1, height): #iterate through number\n",
        "      space = space[:-1]\n",
        "      star += \"**\"\n",
        "      print(space+star, end='\\n')\n",
        "  print(start_space+trunk)\n",
        "draw(space, star, height)"
      ]
    },
    {
      "cell_type": "code",
      "source": [
        "633"
      ],
      "metadata": {
        "id": "__zfTDUXLIL9",
        "colab": {
          "base_uri": "https://localhost:8080/"
        },
        "outputId": "205aaf41-ff7f-4b61-eed1-8389ca69adf5"
      },
      "execution_count": null,
      "outputs": [
        {
          "output_type": "execute_result",
          "data": {
            "text/plain": [
              "633"
            ]
          },
          "metadata": {},
          "execution_count": 57
        }
      ]
    },
    {
      "cell_type": "code",
      "source": [],
      "metadata": {
        "id": "UnhZ0KjguXir"
      },
      "execution_count": null,
      "outputs": []
    }
  ],
  "metadata": {
    "kernelspec": {
      "display_name": "Python 3",
      "language": "python",
      "name": "python3"
    },
    "language_info": {
      "codemirror_mode": {
        "name": "ipython",
        "version": 3
      },
      "file_extension": ".py",
      "mimetype": "text/x-python",
      "name": "python",
      "nbconvert_exporter": "python",
      "pygments_lexer": "ipython3",
      "version": "3.10.6"
    },
    "orig_nbformat": 4,
    "colab": {
      "provenance": [],
      "include_colab_link": true
    }
  },
  "nbformat": 4,
  "nbformat_minor": 0
}